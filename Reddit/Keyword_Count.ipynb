{
 "cells": [
  {
   "cell_type": "code",
   "execution_count": 1,
   "metadata": {},
   "outputs": [],
   "source": [
    "import pandas as pd\n",
    "import numpy as np\n",
    "import matplotlib.pyplot as plt\n",
    "import seaborn as sns"
   ]
  },
  {
   "cell_type": "code",
   "execution_count": 2,
   "metadata": {},
   "outputs": [],
   "source": [
    "reddit_df = pd.read_csv(r\"C:\\Users\\User\\Downloads\\reddit_output_latest.csv\")"
   ]
  },
  {
   "cell_type": "code",
   "execution_count": 3,
   "metadata": {},
   "outputs": [
    {
     "data": {
      "text/html": [
       "<div>\n",
       "<style scoped>\n",
       "    .dataframe tbody tr th:only-of-type {\n",
       "        vertical-align: middle;\n",
       "    }\n",
       "\n",
       "    .dataframe tbody tr th {\n",
       "        vertical-align: top;\n",
       "    }\n",
       "\n",
       "    .dataframe thead th {\n",
       "        text-align: right;\n",
       "    }\n",
       "</style>\n",
       "<table border=\"1\" class=\"dataframe\">\n",
       "  <thead>\n",
       "    <tr style=\"text-align: right;\">\n",
       "      <th></th>\n",
       "      <th>title</th>\n",
       "      <th>score</th>\n",
       "      <th>id</th>\n",
       "      <th>url</th>\n",
       "      <th>comms_num</th>\n",
       "      <th>created</th>\n",
       "      <th>body</th>\n",
       "      <th>timestamp</th>\n",
       "    </tr>\n",
       "  </thead>\n",
       "  <tbody>\n",
       "    <tr>\n",
       "      <th>0</th>\n",
       "      <td>I want to vent. I feel so powerless and defeated</td>\n",
       "      <td>156</td>\n",
       "      <td>jfjfvq</td>\n",
       "      <td>https://www.reddit.com/r/Nigeria/comments/jfjf...</td>\n",
       "      <td>41</td>\n",
       "      <td>1.603336e+09</td>\n",
       "      <td>There's a genocide going on in Nigeria right n...</td>\n",
       "      <td>2020-10-22 08:40:36</td>\n",
       "    </tr>\n",
       "    <tr>\n",
       "      <th>1</th>\n",
       "      <td>I told my therapist that I was sexually abused...</td>\n",
       "      <td>158</td>\n",
       "      <td>k44vyt</td>\n",
       "      <td>https://www.reddit.com/r/adultsurvivors/commen...</td>\n",
       "      <td>14</td>\n",
       "      <td>1.606798e+09</td>\n",
       "      <td>I work in a mental hospital and I witnessed a ...</td>\n",
       "      <td>2020-12-01 10:19:03</td>\n",
       "    </tr>\n",
       "    <tr>\n",
       "      <th>2</th>\n",
       "      <td>An Idea</td>\n",
       "      <td>141</td>\n",
       "      <td>lixnyd</td>\n",
       "      <td>https://www.reddit.com/r/Africa/comments/lixny...</td>\n",
       "      <td>51</td>\n",
       "      <td>1.613239e+09</td>\n",
       "      <td>Hello. My name is Birhanu Tesfahun and I wante...</td>\n",
       "      <td>2021-02-13 23:19:09</td>\n",
       "    </tr>\n",
       "    <tr>\n",
       "      <th>3</th>\n",
       "      <td>I am Solomon Onita Jr., a Nigerian American Di...</td>\n",
       "      <td>121</td>\n",
       "      <td>lqv72b</td>\n",
       "      <td>https://www.reddit.com/r/Nigeria/comments/lqv7...</td>\n",
       "      <td>54</td>\n",
       "      <td>1.614149e+09</td>\n",
       "      <td>Tazmanian Devil stars Abraham Attah as Dayo, a...</td>\n",
       "      <td>2021-02-24 12:12:04</td>\n",
       "    </tr>\n",
       "    <tr>\n",
       "      <th>4</th>\n",
       "      <td>Happy Africa Day</td>\n",
       "      <td>114</td>\n",
       "      <td>nkw2l4</td>\n",
       "      <td>https://www.reddit.com/r/Africa/comments/nkw2l...</td>\n",
       "      <td>4</td>\n",
       "      <td>1.621995e+09</td>\n",
       "      <td>Jambo!\\nI am a proud Kenyan website developer ...</td>\n",
       "      <td>2021-05-26 07:36:11</td>\n",
       "    </tr>\n",
       "  </tbody>\n",
       "</table>\n",
       "</div>"
      ],
      "text/plain": [
       "                                               title  score      id  \\\n",
       "0   I want to vent. I feel so powerless and defeated    156  jfjfvq   \n",
       "1  I told my therapist that I was sexually abused...    158  k44vyt   \n",
       "2                                            An Idea    141  lixnyd   \n",
       "3  I am Solomon Onita Jr., a Nigerian American Di...    121  lqv72b   \n",
       "4                                   Happy Africa Day    114  nkw2l4   \n",
       "\n",
       "                                                 url  comms_num       created  \\\n",
       "0  https://www.reddit.com/r/Nigeria/comments/jfjf...         41  1.603336e+09   \n",
       "1  https://www.reddit.com/r/adultsurvivors/commen...         14  1.606798e+09   \n",
       "2  https://www.reddit.com/r/Africa/comments/lixny...         51  1.613239e+09   \n",
       "3  https://www.reddit.com/r/Nigeria/comments/lqv7...         54  1.614149e+09   \n",
       "4  https://www.reddit.com/r/Africa/comments/nkw2l...          4  1.621995e+09   \n",
       "\n",
       "                                                body            timestamp  \n",
       "0  There's a genocide going on in Nigeria right n...  2020-10-22 08:40:36  \n",
       "1  I work in a mental hospital and I witnessed a ...  2020-12-01 10:19:03  \n",
       "2  Hello. My name is Birhanu Tesfahun and I wante...  2021-02-13 23:19:09  \n",
       "3  Tazmanian Devil stars Abraham Attah as Dayo, a...  2021-02-24 12:12:04  \n",
       "4  Jambo!\\nI am a proud Kenyan website developer ...  2021-05-26 07:36:11  "
      ]
     },
     "execution_count": 3,
     "metadata": {},
     "output_type": "execute_result"
    }
   ],
   "source": [
    "reddit_df.head()"
   ]
  },
  {
   "cell_type": "code",
   "execution_count": 15,
   "metadata": {},
   "outputs": [
    {
     "name": "stderr",
     "output_type": "stream",
     "text": [
      "<ipython-input-15-8a377e39d13c>:2: SettingWithCopyWarning: \n",
      "A value is trying to be set on a copy of a slice from a DataFrame\n",
      "\n",
      "See the caveats in the documentation: https://pandas.pydata.org/pandas-docs/stable/user_guide/indexing.html#returning-a-view-versus-a-copy\n",
      "  reddit_df[\"subreddit\"][i] = reddit_df[\"url\"][i].split(\"/\")[4]\n"
     ]
    }
   ],
   "source": [
    "for i in range(len(reddit_df)):\n",
    "    reddit_df[\"subreddit\"][i] = reddit_df[\"url\"][i].split(\"/\")[4]"
   ]
  },
  {
   "cell_type": "code",
   "execution_count": 16,
   "metadata": {},
   "outputs": [
    {
     "data": {
      "text/html": [
       "<div>\n",
       "<style scoped>\n",
       "    .dataframe tbody tr th:only-of-type {\n",
       "        vertical-align: middle;\n",
       "    }\n",
       "\n",
       "    .dataframe tbody tr th {\n",
       "        vertical-align: top;\n",
       "    }\n",
       "\n",
       "    .dataframe thead th {\n",
       "        text-align: right;\n",
       "    }\n",
       "</style>\n",
       "<table border=\"1\" class=\"dataframe\">\n",
       "  <thead>\n",
       "    <tr style=\"text-align: right;\">\n",
       "      <th></th>\n",
       "      <th>title</th>\n",
       "      <th>score</th>\n",
       "      <th>id</th>\n",
       "      <th>url</th>\n",
       "      <th>comms_num</th>\n",
       "      <th>created</th>\n",
       "      <th>body</th>\n",
       "      <th>timestamp</th>\n",
       "      <th>subreddit</th>\n",
       "      <th>text</th>\n",
       "    </tr>\n",
       "  </thead>\n",
       "  <tbody>\n",
       "    <tr>\n",
       "      <th>0</th>\n",
       "      <td>I want to vent. I feel so powerless and defeated</td>\n",
       "      <td>156</td>\n",
       "      <td>jfjfvq</td>\n",
       "      <td>https://www.reddit.com/r/Nigeria/comments/jfjf...</td>\n",
       "      <td>41</td>\n",
       "      <td>1.603336e+09</td>\n",
       "      <td>There's a genocide going on in Nigeria right n...</td>\n",
       "      <td>2020-10-22 08:40:36</td>\n",
       "      <td>Nigeria</td>\n",
       "      <td>I want to vent. I feel so powerless and defeat...</td>\n",
       "    </tr>\n",
       "    <tr>\n",
       "      <th>1</th>\n",
       "      <td>I told my therapist that I was sexually abused...</td>\n",
       "      <td>158</td>\n",
       "      <td>k44vyt</td>\n",
       "      <td>https://www.reddit.com/r/adultsurvivors/commen...</td>\n",
       "      <td>14</td>\n",
       "      <td>1.606798e+09</td>\n",
       "      <td>I work in a mental hospital and I witnessed a ...</td>\n",
       "      <td>2020-12-01 10:19:03</td>\n",
       "      <td>adultsurvivors</td>\n",
       "      <td>I told my therapist that I was sexually abused...</td>\n",
       "    </tr>\n",
       "    <tr>\n",
       "      <th>2</th>\n",
       "      <td>An Idea</td>\n",
       "      <td>141</td>\n",
       "      <td>lixnyd</td>\n",
       "      <td>https://www.reddit.com/r/Africa/comments/lixny...</td>\n",
       "      <td>51</td>\n",
       "      <td>1.613239e+09</td>\n",
       "      <td>Hello. My name is Birhanu Tesfahun and I wante...</td>\n",
       "      <td>2021-02-13 23:19:09</td>\n",
       "      <td>Africa</td>\n",
       "      <td>An Idea Hello. My name is Birhanu Tesfahun and...</td>\n",
       "    </tr>\n",
       "    <tr>\n",
       "      <th>3</th>\n",
       "      <td>I am Solomon Onita Jr., a Nigerian American Di...</td>\n",
       "      <td>121</td>\n",
       "      <td>lqv72b</td>\n",
       "      <td>https://www.reddit.com/r/Nigeria/comments/lqv7...</td>\n",
       "      <td>54</td>\n",
       "      <td>1.614149e+09</td>\n",
       "      <td>Tazmanian Devil stars Abraham Attah as Dayo, a...</td>\n",
       "      <td>2021-02-24 12:12:04</td>\n",
       "      <td>Nigeria</td>\n",
       "      <td>I am Solomon Onita Jr., a Nigerian American Di...</td>\n",
       "    </tr>\n",
       "    <tr>\n",
       "      <th>4</th>\n",
       "      <td>Happy Africa Day</td>\n",
       "      <td>114</td>\n",
       "      <td>nkw2l4</td>\n",
       "      <td>https://www.reddit.com/r/Africa/comments/nkw2l...</td>\n",
       "      <td>4</td>\n",
       "      <td>1.621995e+09</td>\n",
       "      <td>Jambo!\\nI am a proud Kenyan website developer ...</td>\n",
       "      <td>2021-05-26 07:36:11</td>\n",
       "      <td>Africa</td>\n",
       "      <td>Happy Africa Day Jambo!\\nI am a proud Kenyan w...</td>\n",
       "    </tr>\n",
       "    <tr>\n",
       "      <th>...</th>\n",
       "      <td>...</td>\n",
       "      <td>...</td>\n",
       "      <td>...</td>\n",
       "      <td>...</td>\n",
       "      <td>...</td>\n",
       "      <td>...</td>\n",
       "      <td>...</td>\n",
       "      <td>...</td>\n",
       "      <td>...</td>\n",
       "      <td>...</td>\n",
       "    </tr>\n",
       "    <tr>\n",
       "      <th>165</th>\n",
       "      <td>POS Barcode Scanners &amp; Printers Nigeria | IVTECH</td>\n",
       "      <td>2</td>\n",
       "      <td>8mo7xv</td>\n",
       "      <td>https://www.reddit.com/r/NigeriaNews/comments/...</td>\n",
       "      <td>0</td>\n",
       "      <td>1.527520e+09</td>\n",
       "      <td>We offers a large selection of Networking Devi...</td>\n",
       "      <td>2018-05-28 20:40:53</td>\n",
       "      <td>NigeriaNews</td>\n",
       "      <td>POS Barcode Scanners &amp; Printers Nigeria | IVTE...</td>\n",
       "    </tr>\n",
       "    <tr>\n",
       "      <th>166</th>\n",
       "      <td>Buhari’s aide breaks down in tears as Presiden...</td>\n",
       "      <td>2</td>\n",
       "      <td>8e9gtk</td>\n",
       "      <td>https://www.reddit.com/r/NigeriaNews/comments/...</td>\n",
       "      <td>0</td>\n",
       "      <td>1.524494e+09</td>\n",
       "      <td>President Muhammadu Buhari’s Special Assistant...</td>\n",
       "      <td>2018-04-23 20:07:30</td>\n",
       "      <td>NigeriaNews</td>\n",
       "      <td>Buhari’s aide breaks down in tears as Presiden...</td>\n",
       "    </tr>\n",
       "    <tr>\n",
       "      <th>167</th>\n",
       "      <td>Aprecon - The Latest financial, market and lat...</td>\n",
       "      <td>2</td>\n",
       "      <td>7081ru</td>\n",
       "      <td>https://www.reddit.com/r/NigeriaNews/comments/...</td>\n",
       "      <td>0</td>\n",
       "      <td>1.505485e+09</td>\n",
       "      <td>Get the latest business news in Nigeria and Fe...</td>\n",
       "      <td>2017-09-15 19:39:04</td>\n",
       "      <td>NigeriaNews</td>\n",
       "      <td>Aprecon - The Latest financial, market and lat...</td>\n",
       "    </tr>\n",
       "    <tr>\n",
       "      <th>168</th>\n",
       "      <td>Nigeria : news of Abubakar Shekau’s demise</td>\n",
       "      <td>1</td>\n",
       "      <td>njtj3s</td>\n",
       "      <td>https://www.reddit.com/r/NigeriaNews/comments/...</td>\n",
       "      <td>0</td>\n",
       "      <td>1.621876e+09</td>\n",
       "      <td>&amp;#x200B;\\n\\nNigeria’s military says it is prob...</td>\n",
       "      <td>2021-05-24 22:35:16</td>\n",
       "      <td>NigeriaNews</td>\n",
       "      <td>Nigeria : news of Abubakar Shekau’s demise &amp;#x...</td>\n",
       "    </tr>\n",
       "    <tr>\n",
       "      <th>169</th>\n",
       "      <td>My Life was Ruined at 11 Chapters 3 and 4</td>\n",
       "      <td>1</td>\n",
       "      <td>2pxa8g</td>\n",
       "      <td>https://www.reddit.com/r/abusevictims/comments...</td>\n",
       "      <td>0</td>\n",
       "      <td>1.419145e+09</td>\n",
       "      <td>Chapter 2 - That Morning\\n\\nI suspect the morn...</td>\n",
       "      <td>2014-12-21 12:27:31</td>\n",
       "      <td>abusevictims</td>\n",
       "      <td>My Life was Ruined at 11 Chapters 3 and 4 Chap...</td>\n",
       "    </tr>\n",
       "  </tbody>\n",
       "</table>\n",
       "<p>170 rows × 10 columns</p>\n",
       "</div>"
      ],
      "text/plain": [
       "                                                 title  score      id  \\\n",
       "0     I want to vent. I feel so powerless and defeated    156  jfjfvq   \n",
       "1    I told my therapist that I was sexually abused...    158  k44vyt   \n",
       "2                                              An Idea    141  lixnyd   \n",
       "3    I am Solomon Onita Jr., a Nigerian American Di...    121  lqv72b   \n",
       "4                                     Happy Africa Day    114  nkw2l4   \n",
       "..                                                 ...    ...     ...   \n",
       "165   POS Barcode Scanners & Printers Nigeria | IVTECH      2  8mo7xv   \n",
       "166  Buhari’s aide breaks down in tears as Presiden...      2  8e9gtk   \n",
       "167  Aprecon - The Latest financial, market and lat...      2  7081ru   \n",
       "168         Nigeria : news of Abubakar Shekau’s demise      1  njtj3s   \n",
       "169          My Life was Ruined at 11 Chapters 3 and 4      1  2pxa8g   \n",
       "\n",
       "                                                   url  comms_num  \\\n",
       "0    https://www.reddit.com/r/Nigeria/comments/jfjf...         41   \n",
       "1    https://www.reddit.com/r/adultsurvivors/commen...         14   \n",
       "2    https://www.reddit.com/r/Africa/comments/lixny...         51   \n",
       "3    https://www.reddit.com/r/Nigeria/comments/lqv7...         54   \n",
       "4    https://www.reddit.com/r/Africa/comments/nkw2l...          4   \n",
       "..                                                 ...        ...   \n",
       "165  https://www.reddit.com/r/NigeriaNews/comments/...          0   \n",
       "166  https://www.reddit.com/r/NigeriaNews/comments/...          0   \n",
       "167  https://www.reddit.com/r/NigeriaNews/comments/...          0   \n",
       "168  https://www.reddit.com/r/NigeriaNews/comments/...          0   \n",
       "169  https://www.reddit.com/r/abusevictims/comments...          0   \n",
       "\n",
       "          created                                               body  \\\n",
       "0    1.603336e+09  There's a genocide going on in Nigeria right n...   \n",
       "1    1.606798e+09  I work in a mental hospital and I witnessed a ...   \n",
       "2    1.613239e+09  Hello. My name is Birhanu Tesfahun and I wante...   \n",
       "3    1.614149e+09  Tazmanian Devil stars Abraham Attah as Dayo, a...   \n",
       "4    1.621995e+09  Jambo!\\nI am a proud Kenyan website developer ...   \n",
       "..            ...                                                ...   \n",
       "165  1.527520e+09  We offers a large selection of Networking Devi...   \n",
       "166  1.524494e+09  President Muhammadu Buhari’s Special Assistant...   \n",
       "167  1.505485e+09  Get the latest business news in Nigeria and Fe...   \n",
       "168  1.621876e+09  &#x200B;\\n\\nNigeria’s military says it is prob...   \n",
       "169  1.419145e+09  Chapter 2 - That Morning\\n\\nI suspect the morn...   \n",
       "\n",
       "               timestamp       subreddit  \\\n",
       "0    2020-10-22 08:40:36         Nigeria   \n",
       "1    2020-12-01 10:19:03  adultsurvivors   \n",
       "2    2021-02-13 23:19:09          Africa   \n",
       "3    2021-02-24 12:12:04         Nigeria   \n",
       "4    2021-05-26 07:36:11          Africa   \n",
       "..                   ...             ...   \n",
       "165  2018-05-28 20:40:53     NigeriaNews   \n",
       "166  2018-04-23 20:07:30     NigeriaNews   \n",
       "167  2017-09-15 19:39:04     NigeriaNews   \n",
       "168  2021-05-24 22:35:16     NigeriaNews   \n",
       "169  2014-12-21 12:27:31    abusevictims   \n",
       "\n",
       "                                                  text  \n",
       "0    I want to vent. I feel so powerless and defeat...  \n",
       "1    I told my therapist that I was sexually abused...  \n",
       "2    An Idea Hello. My name is Birhanu Tesfahun and...  \n",
       "3    I am Solomon Onita Jr., a Nigerian American Di...  \n",
       "4    Happy Africa Day Jambo!\\nI am a proud Kenyan w...  \n",
       "..                                                 ...  \n",
       "165  POS Barcode Scanners & Printers Nigeria | IVTE...  \n",
       "166  Buhari’s aide breaks down in tears as Presiden...  \n",
       "167  Aprecon - The Latest financial, market and lat...  \n",
       "168  Nigeria : news of Abubakar Shekau’s demise &#x...  \n",
       "169  My Life was Ruined at 11 Chapters 3 and 4 Chap...  \n",
       "\n",
       "[170 rows x 10 columns]"
      ]
     },
     "execution_count": 16,
     "metadata": {},
     "output_type": "execute_result"
    }
   ],
   "source": [
    "reddit_df"
   ]
  },
  {
   "cell_type": "code",
   "execution_count": 17,
   "metadata": {},
   "outputs": [
    {
     "data": {
      "text/plain": [
       "array(['Nigeria', 'adultsurvivors', 'Africa', 'domesticviolence', 'rape',\n",
       "       'sexualassault', 'NigeriaNews', 'abusevictims',\n",
       "       'secondary_survivors'], dtype=object)"
      ]
     },
     "execution_count": 17,
     "metadata": {},
     "output_type": "execute_result"
    }
   ],
   "source": [
    "reddit_df[\"subreddit\"].unique()"
   ]
  },
  {
   "cell_type": "code",
   "execution_count": 18,
   "metadata": {},
   "outputs": [],
   "source": [
    "glossary = ['sexual abuse', 'sexual exploitation', 'rape', 'sexual assault', 'exploitative relationship', 'human rights violation', 'sexual violence', 'gender based violence', 'violence against women', 'sexual harassment', 'domestic violence', 'domesticviolence', 'genderbasedviolence', 'GBV', 'violenceagainstwomen', 'sexualabuse', 'humanrightsviolation', 'cyberbullying','domesticviolence']"
   ]
  },
  {
   "cell_type": "code",
   "execution_count": 19,
   "metadata": {},
   "outputs": [],
   "source": [
    "reddit_df[\"text\"] = reddit_df[\"title\"] + \" \" + reddit_df[\"body\"]"
   ]
  },
  {
   "cell_type": "code",
   "execution_count": 20,
   "metadata": {},
   "outputs": [
    {
     "data": {
      "text/plain": [
       "0      I want to vent. I feel so powerless and defeat...\n",
       "1      I told my therapist that I was sexually abused...\n",
       "2      An Idea Hello. My name is Birhanu Tesfahun and...\n",
       "3      I am Solomon Onita Jr., a Nigerian American Di...\n",
       "4      Happy Africa Day Jambo!\\nI am a proud Kenyan w...\n",
       "                             ...                        \n",
       "165    POS Barcode Scanners & Printers Nigeria | IVTE...\n",
       "166    Buhari’s aide breaks down in tears as Presiden...\n",
       "167    Aprecon - The Latest financial, market and lat...\n",
       "168    Nigeria : news of Abubakar Shekau’s demise &#x...\n",
       "169    My Life was Ruined at 11 Chapters 3 and 4 Chap...\n",
       "Name: text, Length: 170, dtype: object"
      ]
     },
     "execution_count": 20,
     "metadata": {},
     "output_type": "execute_result"
    }
   ],
   "source": [
    "reddit_df[\"text\"]"
   ]
  },
  {
   "cell_type": "code",
   "execution_count": 21,
   "metadata": {},
   "outputs": [],
   "source": [
    "subreddits = reddit_df[\"subreddit\"].unique()"
   ]
  },
  {
   "cell_type": "code",
   "execution_count": 22,
   "metadata": {},
   "outputs": [],
   "source": [
    "count_key = reddit_df.assign(words = reddit_df.text.str.lower().str.split(' ')).explode('words').groupby('subreddit')['words'].value_counts()"
   ]
  },
  {
   "cell_type": "code",
   "execution_count": 23,
   "metadata": {},
   "outputs": [
    {
     "data": {
      "text/plain": [
       "subreddit      words         \n",
       "Africa         the               134\n",
       "               and                87\n",
       "               of                 68\n",
       "               to                 62\n",
       "               a                  50\n",
       "                                ... \n",
       "sexualassault  “pathological”      1\n",
       "               “sad”               1\n",
       "               “she                1\n",
       "               “you                1\n",
       "               “you’re             1\n",
       "Name: words, Length: 11582, dtype: int64"
      ]
     },
     "execution_count": 23,
     "metadata": {},
     "output_type": "execute_result"
    }
   ],
   "source": [
    "count_key"
   ]
  },
  {
   "cell_type": "code",
   "execution_count": 24,
   "metadata": {},
   "outputs": [
    {
     "data": {
      "text/plain": [
       "subreddit            words\n",
       "abusevictims         rape     1\n",
       "rape                 rape     1\n",
       "secondary_survivors  rape     1\n",
       "sexualassault        rape     4\n",
       "Name: words, dtype: int64"
      ]
     },
     "execution_count": 24,
     "metadata": {},
     "output_type": "execute_result"
    }
   ],
   "source": [
    "import numpy as np\n",
    "count_key[np.in1d(count_key.index.get_level_values(1), glossary)]"
   ]
  },
  {
   "cell_type": "code",
   "execution_count": null,
   "metadata": {},
   "outputs": [],
   "source": []
  }
 ],
 "metadata": {
  "kernelspec": {
   "display_name": "Python 3",
   "language": "python",
   "name": "python3"
  },
  "language_info": {
   "codemirror_mode": {
    "name": "ipython",
    "version": 3
   },
   "file_extension": ".py",
   "mimetype": "text/x-python",
   "name": "python",
   "nbconvert_exporter": "python",
   "pygments_lexer": "ipython3",
   "version": "3.8.3"
  }
 },
 "nbformat": 4,
 "nbformat_minor": 4
}
