{
  "nbformat": 4,
  "nbformat_minor": 0,
  "metadata": {
    "colab": {
      "name": "twint_scraper.ipynb",
      "provenance": [],
      "collapsed_sections": [
        "I4ekzSgv8DLz",
        "qmTauAWpmqsy",
        "bIv1UdIUfXOE",
        "3CMvML44ftgB",
        "48Op88T6gQ8y",
        "RS08eRNU8Go3"
      ]
    },
    "kernelspec": {
      "name": "python3",
      "display_name": "Python 3"
    },
    "language_info": {
      "name": "python"
    }
  },
  "cells": [
    {
      "cell_type": "markdown",
      "metadata": {
        "id": "udSqEC9FWECI"
      },
      "source": [
        "# Scraping Twitter with twint"
      ]
    },
    {
      "cell_type": "markdown",
      "metadata": {
        "id": "WSs-MHeOa19I"
      },
      "source": [
        "https://github.com/twintproject/twint"
      ]
    },
    {
      "cell_type": "code",
      "metadata": {
        "id": "_D0PwEMNRMRF"
      },
      "source": [
        "# Check if twint is already installed\n",
        "!pip list | grep twint"
      ],
      "execution_count": null,
      "outputs": []
    },
    {
      "cell_type": "code",
      "metadata": {
        "id": "Rz-Imjz5VxjQ"
      },
      "source": [
        "# https://github.com/twintproject/twint/issues/915\n",
        "\n",
        "# Run this command first, then restart runtime, you can import twint after that\n",
        "!pip3 install --user --upgrade git+https://github.com/twintproject/twint.git@origin/master#egg=twint"
      ],
      "execution_count": null,
      "outputs": []
    },
    {
      "cell_type": "markdown",
      "metadata": {
        "id": "ZbIyno9feyul"
      },
      "source": [
        "Restart runtime then clone twint from github and install requirements"
      ]
    },
    {
      "cell_type": "code",
      "metadata": {
        "id": "hA1l37qjr64-"
      },
      "source": [
        "!git clone https://github.com/twintproject/twint.git"
      ],
      "execution_count": null,
      "outputs": []
    },
    {
      "cell_type": "code",
      "metadata": {
        "id": "NK5FljpAOHJC"
      },
      "source": [
        "!cd /content/twint && pip3 install . -r requirements.txt"
      ],
      "execution_count": null,
      "outputs": []
    },
    {
      "cell_type": "code",
      "metadata": {
        "id": "bwpmh8pj8BS4"
      },
      "source": [
        "import twint\n",
        "\n",
        "# Solve compatibility issues with notebooks and RunTime errors\n",
        "import nest_asyncio\n",
        "nest_asyncio.apply()\n",
        "\n",
        "import pandas as pd"
      ],
      "execution_count": 11,
      "outputs": []
    },
    {
      "cell_type": "markdown",
      "metadata": {
        "id": "qvDDGVoAD6Jj"
      },
      "source": [
        "# Extract tweets for years 2019, 2020, 2021 and save them to .csv, named by search terms"
      ]
    },
    {
      "cell_type": "code",
      "metadata": {
        "id": "khvXMtjGSpSq"
      },
      "source": [
        "# Create a list of terms related to gender based violence\n",
        "glossary = ['sexual abuse', 'sexual exploitation', 'rape', 'sexual assault', \n",
        "            'exploitative relationship', 'human rights violation', 'sexual violence', \n",
        "            'gender based violence', 'violence against women', 'sexual harassment', \n",
        "            'domestic_abuse', 'domestic violence','domesticviolence', 'genderbasedviolence', \n",
        "            'GBV', 'violenceagainstwomen', 'sexualabuse','humanrightsviolation', \n",
        "            'cyberbullying','genderequality', 'endgbv', 'metoo', 'covid', 'coronavirus', \n",
        "            'survivors', 'feminism', 'stopgbv', 'enoughisenough', 'femicide', \n",
        "            'arewametoo','consent', 'mentalhealth', 'safety', 'domesticabuse']"
      ],
      "execution_count": 4,
      "outputs": []
    },
    {
      "cell_type": "markdown",
      "metadata": {
        "id": "yX6DDqDhQjru"
      },
      "source": [
        "Twint configuration options:\n",
        "\n",
        "https://github.com/twintproject/twint/wiki/Configuration"
      ]
    },
    {
      "cell_type": "code",
      "metadata": {
        "colab": {
          "base_uri": "https://localhost:8080/"
        },
        "id": "zaeWoR_Y8iMN",
        "outputId": "626492bb-5684-428e-a428-e196804baafa"
      },
      "source": [
        "# available columns when saving to pandas\n",
        "twint.output.panda.Tweets_df.columns"
      ],
      "execution_count": 8,
      "outputs": [
        {
          "output_type": "execute_result",
          "data": {
            "text/plain": [
              "Index(['id', 'conversation_id', 'created_at', 'date', 'timezone', 'place',\n",
              "       'tweet', 'language', 'hashtags', 'cashtags', 'user_id', 'user_id_str',\n",
              "       'username', 'name', 'day', 'hour', 'link', 'urls', 'photos', 'video',\n",
              "       'thumbnail', 'retweet', 'nlikes', 'nreplies', 'nretweets', 'quote_url',\n",
              "       'search', 'near', 'geo', 'source', 'user_rt_id', 'user_rt',\n",
              "       'retweet_id', 'reply_to', 'retweet_date', 'translate', 'trans_src',\n",
              "       'trans_dest'],\n",
              "      dtype='object')"
            ]
          },
          "metadata": {
            "tags": []
          },
          "execution_count": 8
        }
      ]
    },
    {
      "cell_type": "markdown",
      "metadata": {
        "id": "kMfjGHZXXHg4"
      },
      "source": [
        "Nigeria occupies an area of 923,768 sq. km, extending 1,127 km E–W and 1,046 km N–S.\n",
        "\n",
        "*    Geographic center of Nigeria: 9.081999, 8.675277\n",
        "*    Radius: ~ 550 km\n"
      ]
    },
    {
      "cell_type": "code",
      "metadata": {
        "id": "47NVVQSMzmuJ"
      },
      "source": [
        "def get_tweets(search, since, until):\n",
        "    c = twint.Config()\n",
        "    c.Search = search\n",
        "    print(search)\n",
        "    c.Since = since\n",
        "    c.Until = until\n",
        "    c.Geo = '9.081999, 8.675277, 550km'\n",
        "    c.Show_hashtags = True\n",
        "    c.Count = True\n",
        "    c.Lowercase = True\n",
        "    c.Filter_retweets = True\n",
        "    c.Pandas = True\n",
        "    twint.run.Search(c)\n",
        "    Tweets_df = twint.storage.panda.Tweets_df\n",
        "    Tweets_df.to_csv(f'{search}.csv')"
      ],
      "execution_count": 27,
      "outputs": []
    },
    {
      "cell_type": "markdown",
      "metadata": {
        "id": "4H2r8n-G7BYP"
      },
      "source": [
        "## Scrape one keyword"
      ]
    },
    {
      "cell_type": "code",
      "metadata": {
        "id": "6aEIv2-JEN23"
      },
      "source": [
        "get_tweets('GBV', '2021-05-01', '2021-06-01')"
      ],
      "execution_count": null,
      "outputs": []
    },
    {
      "cell_type": "code",
      "metadata": {
        "id": "AGnjQ5iv9GEy"
      },
      "source": [
        "# Check if tweets were stored to .csv\n",
        "pd.read_csv('GBV.csv').sort_values('date')"
      ],
      "execution_count": null,
      "outputs": []
    },
    {
      "cell_type": "markdown",
      "metadata": {
        "id": "zd1nRACO7Nl5"
      },
      "source": [
        "## Scrape multiple keywords\n",
        "\n",
        "Twint only allows the search for one term or Twitter user at a time. This means we need to create a loop to go through all the the keywords."
      ]
    },
    {
      "cell_type": "code",
      "metadata": {
        "id": "6oM3yMU17Mez"
      },
      "source": [
        "[get_tweets(i, '2021-05-01', '2021-06-01') for i in glossary]"
      ],
      "execution_count": null,
      "outputs": []
    },
    {
      "cell_type": "code",
      "metadata": {
        "id": "ZuDT4QuzM-BP"
      },
      "source": [
        "# Read all .csv's\n",
        "[pd.read_csv(f'{i}.csv') for i in glossary]"
      ],
      "execution_count": null,
      "outputs": []
    },
    {
      "cell_type": "markdown",
      "metadata": {
        "id": "hwXWZawYOxlm"
      },
      "source": [
        "# Save everything to Google Drive"
      ]
    },
    {
      "cell_type": "code",
      "metadata": {
        "colab": {
          "base_uri": "https://localhost:8080/"
        },
        "id": "OhI6v0VoMP2H",
        "outputId": "8b912932-2edd-4740-df49-fa2e9d7e8ead"
      },
      "source": [
        "from google.colab import drive\n",
        "drive.mount('drive')"
      ],
      "execution_count": 42,
      "outputs": [
        {
          "output_type": "stream",
          "text": [
            "Mounted at drive\n"
          ],
          "name": "stdout"
        }
      ]
    },
    {
      "cell_type": "code",
      "metadata": {
        "id": "thoF9pXqUiFQ"
      },
      "source": [
        "# One keyword\n",
        "GBV = pd.read_csv('GBV.csv').sort_values('date')\n",
        "\n",
        "GBV.to_csv('GBV.csv')\n",
        "!cp GBV.csv \"drive/My Drive/\""
      ],
      "execution_count": 114,
      "outputs": []
    },
    {
      "cell_type": "code",
      "metadata": {
        "id": "D566re1QIMDY"
      },
      "source": [
        "# Multiple keywords\n",
        "\n",
        "for i in glossary:\n",
        "    try:\n",
        "        f = pd.read_csv(f'{i}.csv').sort_values('date')\n",
        "        f.to_csv(f'{i}.csv')\n",
        "        !cp {i}.csv 'drive/My Drive/'\n",
        "        \n",
        "    except:\n",
        "        f = pd.read_csv(f'{i}.csv')\n",
        "        f.to_csv(f'{i}.csv')\n",
        "        !cp {i}.csv 'drive/My Drive/'"
      ],
      "execution_count": 113,
      "outputs": []
    }
  ]
}